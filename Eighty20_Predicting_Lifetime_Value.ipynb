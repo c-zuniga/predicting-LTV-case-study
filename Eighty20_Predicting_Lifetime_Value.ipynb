{
  "nbformat": 4,
  "nbformat_minor": 0,
  "metadata": {
    "colab": {
      "name": "Eighty20 Predicting Lifetime Value.ipynb",
      "provenance": [],
      "authorship_tag": "ABX9TyP9ulM+Sm1mEb6K033De4AB",
      "include_colab_link": true
    },
    "kernelspec": {
      "name": "python3",
      "display_name": "Python 3"
    }
  },
  "cells": [
    {
      "cell_type": "markdown",
      "metadata": {
        "id": "view-in-github",
        "colab_type": "text"
      },
      "source": [
        "<a href=\"https://colab.research.google.com/github/c-zuniga/predicting-LTV-case-study/blob/master/Eighty20_Predicting_Lifetime_Value.ipynb\" target=\"_parent\"><img src=\"https://colab.research.google.com/assets/colab-badge.svg\" alt=\"Open In Colab\"/></a>"
      ]
    },
    {
      "cell_type": "markdown",
      "metadata": {
        "id": "0y-svgIJTB-H",
        "colab_type": "text"
      },
      "source": [
        "## Predicting Lifetime Value \n"
      ]
    },
    {
      "cell_type": "code",
      "metadata": {
        "id": "HVGO3JnuW2NO",
        "colab_type": "code",
        "colab": {}
      },
      "source": [
        "#import libraries\n",
        "from datetime import datetime, timedelta,date\n",
        "import pandas as pd\n",
        "%matplotlib inline\n",
        "from sklearn.metrics import classification_report,confusion_matrix\n",
        "import matplotlib.pyplot as plt\n",
        "import numpy as np\n",
        "import seaborn as sns\n",
        "from __future__ import division\n",
        "from sklearn.cluster import KMeans\n",
        "\n",
        "import xgboost as xgb\n",
        "from sklearn.model_selection import KFold, cross_val_score, train_test_split\n",
      ],
      "execution_count": 0,
      "outputs": []
    },
    {
      "cell_type": "code",
      "metadata": {
        "id": "6GZpvQIvnVCv",
        "colab_type": "code",
        "colab": {}
      },
      "source": [
        "#Import Dataset\n",
        "file_name = \"https://theeighty20solution.com/wp-content/uploads/2020/03/OnlineRetail-Dataset.xlsx\"\n",
        "df = pd.read_excel(file_name, sheet_name='Online Retail')"
      ],
      "execution_count": 0,
      "outputs": []
    },
    {
      "cell_type": "code",
      "metadata": {
        "id": "SnaoVcfroryo",
        "colab_type": "code",
        "colab": {}
      },
      "source": [
        "#convert the string date field to datetime\n",
        "df['InvoiceDate'] = pd.to_datetime(df['InvoiceDate'])"
      ],
      "execution_count": 0,
      "outputs": []
    },
    {
      "cell_type": "code",
      "metadata": {
        "id": "wiT24sHBor3y",
        "colab_type": "code",
        "colab": {}
      },
      "source": [
        "# Create a Sales Revenue Column\n",
        "df['Sales'] = df['Quantity'] * df['UnitPrice']"
      ],
      "execution_count": 0,
      "outputs": []
    },
    {
      "cell_type": "code",
      "metadata": {
        "id": "tJxH-LzUor78",
        "colab_type": "code",
        "colab": {}
      },
      "source": [
        "# Create a CLTV Column based on 40% profit margin\n",
        "df['CLTV'] = df['Sales'] *.4"
      ],
      "execution_count": 0,
      "outputs": []
    },
    {
      "cell_type": "code",
      "metadata": {
        "id": "lvJTLbvko6RA",
        "colab_type": "code",
        "colab": {}
      },
      "source": [
        "# Remove quantities that are less than 0\n",
        "df = df.loc[df['Sales'] > 0]"
      ],
      "execution_count": 0,
      "outputs": []
    },
    {
      "cell_type": "code",
      "metadata": {
        "id": "kIZ74f3Mo6Zi",
        "colab_type": "code",
        "colab": {}
      },
      "source": [
        "# Remove blank customer IDs\n",
        "df = df[pd.notnull(df['CustomerID'])]"
      ],
      "execution_count": 0,
      "outputs": []
    },
    {
      "cell_type": "code",
      "metadata": {
        "id": "YBkOEEoAqa7S",
        "colab_type": "code",
        "colab": {}
      },
      "source": [
        "#create 3m and 6m dataframes\n",
        "three_M_df = df[(df.InvoiceDate < pd.Timestamp(date(2011,6,1))) & (df.InvoiceDate >= pd.Timestamp(date(2011,3,1)))].reset_index(drop=True)\n",
        "six_M_df = df[(df.InvoiceDate >= pd.Timestamp(date(2011,6,1))) & (df.InvoiceDate < pd.Timestamp(date(2011,12,1)))].reset_index(drop=True)"
      ],
      "execution_count": 0,
      "outputs": []
    },
    {
      "cell_type": "code",
      "metadata": {
        "id": "N-k44HPUBhI7",
        "colab_type": "code",
        "colab": {}
      },
      "source": [
        "#create tx_user for assigning clustering\n",
        "tx_user = pd.DataFrame(three_M_df['CustomerID'].unique())\n",
        "tx_user.columns = ['CustomerID']"
      ],
      "execution_count": 0,
      "outputs": []
    },
    {
      "cell_type": "code",
      "metadata": {
        "id": "H_C3_QcNJZbY",
        "colab_type": "code",
        "outputId": "6513f704-e11c-4ac2-db45-dc63d9c3b6a1",
        "colab": {
          "base_uri": "https://localhost:8080/",
          "height": 204
        }
      },
      "source": [
        "#calculate recency score\n",
        "tx_max_purchase = three_M_df.groupby('CustomerID').InvoiceDate.max().reset_index()\n",
        "tx_max_purchase.columns = ['CustomerID','MaxPurchaseDate']\n",
        "tx_max_purchase['Recency'] = (tx_max_purchase['MaxPurchaseDate'].max() - tx_max_purchase['MaxPurchaseDate']).dt.days\n",
        "tx_user = pd.merge(tx_user, tx_max_purchase[['CustomerID','Recency']], on='CustomerID')\n",
        "tx_user.head()"
      ],
      "execution_count": 10,
      "outputs": [
        {
          "output_type": "execute_result",
          "data": {
            "text/html": [
              "<div>\n",
              "<style scoped>\n",
              "    .dataframe tbody tr th:only-of-type {\n",
              "        vertical-align: middle;\n",
              "    }\n",
              "\n",
              "    .dataframe tbody tr th {\n",
              "        vertical-align: top;\n",
              "    }\n",
              "\n",
              "    .dataframe thead th {\n",
              "        text-align: right;\n",
              "    }\n",
              "</style>\n",
              "<table border=\"1\" class=\"dataframe\">\n",
              "  <thead>\n",
              "    <tr style=\"text-align: right;\">\n",
              "      <th></th>\n",
              "      <th>CustomerID</th>\n",
              "      <th>Recency</th>\n",
              "    </tr>\n",
              "  </thead>\n",
              "  <tbody>\n",
              "    <tr>\n",
              "      <th>0</th>\n",
              "      <td>14620.0</td>\n",
              "      <td>13</td>\n",
              "    </tr>\n",
              "    <tr>\n",
              "      <th>1</th>\n",
              "      <td>14740.0</td>\n",
              "      <td>4</td>\n",
              "    </tr>\n",
              "    <tr>\n",
              "      <th>2</th>\n",
              "      <td>13880.0</td>\n",
              "      <td>25</td>\n",
              "    </tr>\n",
              "    <tr>\n",
              "      <th>3</th>\n",
              "      <td>16462.0</td>\n",
              "      <td>91</td>\n",
              "    </tr>\n",
              "    <tr>\n",
              "      <th>4</th>\n",
              "      <td>17068.0</td>\n",
              "      <td>11</td>\n",
              "    </tr>\n",
              "  </tbody>\n",
              "</table>\n",
              "</div>"
            ],
            "text/plain": [
              "   CustomerID  Recency\n",
              "0     14620.0       13\n",
              "1     14740.0        4\n",
              "2     13880.0       25\n",
              "3     16462.0       91\n",
              "4     17068.0       11"
            ]
          },
          "metadata": {
            "tags": []
          },
          "execution_count": 10
        }
      ]
    },
    {
      "cell_type": "code",
      "metadata": {
        "id": "YOwD1uYDoDE1",
        "colab_type": "code",
        "colab": {}
      },
      "source": [
        "#function for ordering cluster numbers\n",
        "def order_cluster(cluster_field_name, target_field_name,df,ascending):\n",
        "    new_cluster_field_name = 'new_' + cluster_field_name\n",
        "    df_new = df.groupby(cluster_field_name)[target_field_name].mean().reset_index()\n",
        "    df_new = df_new.sort_values(by=target_field_name,ascending=ascending).reset_index(drop=True)\n",
        "    df_new['index'] = df_new.index\n",
        "    df_final = pd.merge(df,df_new[[cluster_field_name,'index']], on=cluster_field_name)\n",
        "    df_final = df_final.drop([cluster_field_name],axis=1)\n",
        "    df_final = df_final.rename(columns={\"index\":cluster_field_name})\n",
        "    return df_final"
      ],
      "execution_count": 0,
      "outputs": []
    },
    {
      "cell_type": "code",
      "metadata": {
        "id": "p11blA6kJbX2",
        "colab_type": "code",
        "colab": {}
      },
      "source": [
        "kmeans = KMeans(n_clusters=4)\n",
        "kmeans.fit(tx_user[['Recency']])\n",
        "tx_user['RecencyCluster'] = kmeans.predict(tx_user[['Recency']])\n",
        "\n",
        "tx_user = order_cluster('RecencyCluster', 'Recency',tx_user,False)"
      ],
      "execution_count": 0,
      "outputs": []
    },
    {
      "cell_type": "code",
      "metadata": {
        "id": "QlS67ucrJbbY",
        "colab_type": "code",
        "colab": {}
      },
      "source": [
        "#Calcuate frequency score\n",
        "tx_frequency = three_M_df.groupby('CustomerID').InvoiceDate.count().reset_index()\n",
        "tx_frequency.columns = ['CustomerID','Frequency']\n",
        "tx_user = pd.merge(tx_user, tx_frequency, on='CustomerID')\n",
        "\n",
        "kmeans = KMeans(n_clusters=4)\n",
        "kmeans.fit(tx_user[['Frequency']])\n",
        "tx_user['FrequencyCluster'] = kmeans.predict(tx_user[['Frequency']])\n",
        "\n",
        "tx_user = order_cluster('FrequencyCluster', 'Frequency',tx_user,True)"
      ],
      "execution_count": 0,
      "outputs": []
    },
    {
      "cell_type": "code",
      "metadata": {
        "id": "b67i_xLLJbe_",
        "colab_type": "code",
        "colab": {}
      },
      "source": [
        "#Calcuate revenue score\n",
        "CLTV_df = three_M_df.groupby('CustomerID').CLTV.sum().reset_index()\n",
        "tx_user = pd.merge(tx_user, CLTV_df, on='CustomerID')\n",
        "\n",
        "kmeans = KMeans(n_clusters=4)\n",
        "kmeans.fit(tx_user[['CLTV']])\n",
        "tx_user['CLTVCluster'] = kmeans.predict(tx_user[['CLTV']])\n",
        "tx_user = order_cluster('CLTVCluster', 'CLTV',tx_user,True)"
      ],
      "execution_count": 0,
      "outputs": []
    },
    {
      "cell_type": "code",
      "metadata": {
        "id": "d8FhnB0UN0uZ",
        "colab_type": "code",
        "colab": {}
      },
      "source": [
        "#Overall scoring\n",
        "tx_user['OverallScore'] = tx_user['RecencyCluster'] + tx_user['FrequencyCluster'] + tx_user['CLTVCluster']\n",
        "tx_user['Segment'] = 'Low-Value'\n",
        "tx_user.loc[tx_user['OverallScore']>2,'Segment'] = 'Mid-Value' \n",
        "tx_user.loc[tx_user['OverallScore']>4,'Segment'] = 'High-Value'"
      ],
      "execution_count": 0,
      "outputs": []
    },
    {
      "cell_type": "code",
      "metadata": {
        "id": "TOUphAPUN0yV",
        "colab_type": "code",
        "colab": {}
      },
      "source": [
        "#Create a new dataframe for CLTV\n",
        "six_M_user_df = six_M_df.groupby('CustomerID')['CLTV'].sum().reset_index()\n",
        "six_M_user_df.columns = ['CustomerID','M6_LTV']"
      ],
      "execution_count": 0,
      "outputs": []
    },
    {
      "cell_type": "code",
      "metadata": {
        "colab_type": "code",
        "id": "hP0QJYT0U4oU",
        "outputId": "c3b55f7e-1421-4936-dd4f-35b9b458793f",
        "colab": {
          "base_uri": "https://localhost:8080/",
          "height": 204
        }
      },
      "source": [
        "#merge our 3 months and 6 months dataframes to see correlations between LTV and the feature set we have\n",
        "tx_merge = pd.merge(tx_user, six_M_user_df, on='CustomerID', how='left')\n",
        "tx_merge = tx_merge.fillna(0)\n",
        "tx_merge.head()"
      ],
      "execution_count": 17,
      "outputs": [
        {
          "output_type": "execute_result",
          "data": {
            "text/html": [
              "<div>\n",
              "<style scoped>\n",
              "    .dataframe tbody tr th:only-of-type {\n",
              "        vertical-align: middle;\n",
              "    }\n",
              "\n",
              "    .dataframe tbody tr th {\n",
              "        vertical-align: top;\n",
              "    }\n",
              "\n",
              "    .dataframe thead th {\n",
              "        text-align: right;\n",
              "    }\n",
              "</style>\n",
              "<table border=\"1\" class=\"dataframe\">\n",
              "  <thead>\n",
              "    <tr style=\"text-align: right;\">\n",
              "      <th></th>\n",
              "      <th>CustomerID</th>\n",
              "      <th>Recency</th>\n",
              "      <th>RecencyCluster</th>\n",
              "      <th>Frequency</th>\n",
              "      <th>FrequencyCluster</th>\n",
              "      <th>CLTV</th>\n",
              "      <th>CLTVCluster</th>\n",
              "      <th>OverallScore</th>\n",
              "      <th>Segment</th>\n",
              "      <th>M6_LTV</th>\n",
              "    </tr>\n",
              "  </thead>\n",
              "  <tbody>\n",
              "    <tr>\n",
              "      <th>0</th>\n",
              "      <td>14620.0</td>\n",
              "      <td>13</td>\n",
              "      <td>3</td>\n",
              "      <td>26</td>\n",
              "      <td>0</td>\n",
              "      <td>165.112</td>\n",
              "      <td>0</td>\n",
              "      <td>3</td>\n",
              "      <td>Mid-Value</td>\n",
              "      <td>0.000</td>\n",
              "    </tr>\n",
              "    <tr>\n",
              "      <th>1</th>\n",
              "      <td>15194.0</td>\n",
              "      <td>6</td>\n",
              "      <td>3</td>\n",
              "      <td>60</td>\n",
              "      <td>0</td>\n",
              "      <td>582.028</td>\n",
              "      <td>0</td>\n",
              "      <td>3</td>\n",
              "      <td>Mid-Value</td>\n",
              "      <td>1299.484</td>\n",
              "    </tr>\n",
              "    <tr>\n",
              "      <th>2</th>\n",
              "      <td>18044.0</td>\n",
              "      <td>5</td>\n",
              "      <td>3</td>\n",
              "      <td>57</td>\n",
              "      <td>0</td>\n",
              "      <td>323.584</td>\n",
              "      <td>0</td>\n",
              "      <td>3</td>\n",
              "      <td>Mid-Value</td>\n",
              "      <td>397.796</td>\n",
              "    </tr>\n",
              "    <tr>\n",
              "      <th>3</th>\n",
              "      <td>18075.0</td>\n",
              "      <td>12</td>\n",
              "      <td>3</td>\n",
              "      <td>34</td>\n",
              "      <td>0</td>\n",
              "      <td>264.028</td>\n",
              "      <td>0</td>\n",
              "      <td>3</td>\n",
              "      <td>Mid-Value</td>\n",
              "      <td>536.412</td>\n",
              "    </tr>\n",
              "    <tr>\n",
              "      <th>4</th>\n",
              "      <td>15241.0</td>\n",
              "      <td>0</td>\n",
              "      <td>3</td>\n",
              "      <td>63</td>\n",
              "      <td>0</td>\n",
              "      <td>386.160</td>\n",
              "      <td>0</td>\n",
              "      <td>3</td>\n",
              "      <td>Mid-Value</td>\n",
              "      <td>316.416</td>\n",
              "    </tr>\n",
              "  </tbody>\n",
              "</table>\n",
              "</div>"
            ],
            "text/plain": [
              "   CustomerID  Recency  RecencyCluster  ...  OverallScore    Segment    M6_LTV\n",
              "0     14620.0       13               3  ...             3  Mid-Value     0.000\n",
              "1     15194.0        6               3  ...             3  Mid-Value  1299.484\n",
              "2     18044.0        5               3  ...             3  Mid-Value   397.796\n",
              "3     18075.0       12               3  ...             3  Mid-Value   536.412\n",
              "4     15241.0        0               3  ...             3  Mid-Value   316.416\n",
              "\n",
              "[5 rows x 10 columns]"
            ]
          },
          "metadata": {
            "tags": []
          },
          "execution_count": 17
        }
      ]
    },
    {
      "cell_type": "code",
      "metadata": {
        "colab_type": "code",
        "id": "Q4VyreJgU4Ut",
        "outputId": "e81cc9d0-d90e-4e33-a4f5-5d08a186210f",
        "colab": {
          "base_uri": "https://localhost:8080/",
          "height": 173
        }
      },
      "source": [
        "#remove outliers\n",
        "tx_merge = tx_merge[tx_merge['M6_LTV']<tx_merge['M6_LTV'].quantile(0.99)]\n",
        "\n",
        "#creating 3 clusters\n",
        "kmeans = KMeans(n_clusters=3)\n",
        "kmeans.fit(tx_merge[['M6_LTV']])\n",
        "tx_merge['LTVCluster'] = kmeans.predict(tx_merge[['M6_LTV']])\n",
        "\n",
        "#order cluster number based on LTV\n",
        "tx_merge = order_cluster('LTVCluster', 'M6_LTV',tx_merge,True)\n",
        "\n",
        "#creatinga new cluster dataframe\n",
        "tx_cluster = tx_merge.copy()\n",
        "\n",
        "#see details of the clusters\n",
        "tx_cluster.groupby('LTVCluster')['M6_LTV'].describe()\n"
      ],
      "execution_count": 18,
      "outputs": [
        {
          "output_type": "execute_result",
          "data": {
            "text/html": [
              "<div>\n",
              "<style scoped>\n",
              "    .dataframe tbody tr th:only-of-type {\n",
              "        vertical-align: middle;\n",
              "    }\n",
              "\n",
              "    .dataframe tbody tr th {\n",
              "        vertical-align: top;\n",
              "    }\n",
              "\n",
              "    .dataframe thead th {\n",
              "        text-align: right;\n",
              "    }\n",
              "</style>\n",
              "<table border=\"1\" class=\"dataframe\">\n",
              "  <thead>\n",
              "    <tr style=\"text-align: right;\">\n",
              "      <th></th>\n",
              "      <th>count</th>\n",
              "      <th>mean</th>\n",
              "      <th>std</th>\n",
              "      <th>min</th>\n",
              "      <th>25%</th>\n",
              "      <th>50%</th>\n",
              "      <th>75%</th>\n",
              "      <th>max</th>\n",
              "    </tr>\n",
              "    <tr>\n",
              "      <th>LTVCluster</th>\n",
              "      <th></th>\n",
              "      <th></th>\n",
              "      <th></th>\n",
              "      <th></th>\n",
              "      <th></th>\n",
              "      <th></th>\n",
              "      <th></th>\n",
              "      <th></th>\n",
              "    </tr>\n",
              "  </thead>\n",
              "  <tbody>\n",
              "    <tr>\n",
              "      <th>0</th>\n",
              "      <td>1661.0</td>\n",
              "      <td>223.309888</td>\n",
              "      <td>234.539176</td>\n",
              "      <td>0.000</td>\n",
              "      <td>0.000</td>\n",
              "      <td>148.040</td>\n",
              "      <td>377.692</td>\n",
              "      <td>832.408</td>\n",
              "    </tr>\n",
              "    <tr>\n",
              "      <th>1</th>\n",
              "      <td>280.0</td>\n",
              "      <td>1463.064100</td>\n",
              "      <td>570.104045</td>\n",
              "      <td>846.328</td>\n",
              "      <td>1026.311</td>\n",
              "      <td>1280.558</td>\n",
              "      <td>1741.569</td>\n",
              "      <td>3125.484</td>\n",
              "    </tr>\n",
              "    <tr>\n",
              "      <th>2</th>\n",
              "      <td>32.0</td>\n",
              "      <td>5015.905125</td>\n",
              "      <td>1446.786410</td>\n",
              "      <td>3395.552</td>\n",
              "      <td>3737.664</td>\n",
              "      <td>4679.680</td>\n",
              "      <td>5777.629</td>\n",
              "      <td>8390.792</td>\n",
              "    </tr>\n",
              "  </tbody>\n",
              "</table>\n",
              "</div>"
            ],
            "text/plain": [
              "             count         mean          std  ...       50%       75%       max\n",
              "LTVCluster                                    ...                              \n",
              "0           1661.0   223.309888   234.539176  ...   148.040   377.692   832.408\n",
              "1            280.0  1463.064100   570.104045  ...  1280.558  1741.569  3125.484\n",
              "2             32.0  5015.905125  1446.786410  ...  4679.680  5777.629  8390.792\n",
              "\n",
              "[3 rows x 8 columns]"
            ]
          },
          "metadata": {
            "tags": []
          },
          "execution_count": 18
        }
      ]
    },
    {
      "cell_type": "code",
      "metadata": {
        "id": "qFUe9DAYU63f",
        "colab_type": "code",
        "colab": {}
      },
      "source": [
        "#convert categorical columns to numerical\n",
        "tx_class = pd.get_dummies(tx_cluster)\n",
        "\n",
        "#calculate and show correlations\n",
        "corr_matrix = tx_class.corr()\n",
        "corr_matrix['LTVCluster'].sort_values(ascending=False)\n",
        "\n",
        "#create X and y, X will be feature set and y is the label - LTV\n",
        "X = tx_class.drop(['LTVCluster','M6_LTV'],axis=1)\n",
        "y = tx_class['LTVCluster']\n",
        "\n",
        "#split training and test sets\n",
        "X_train, X_test, y_train, y_test = train_test_split(X, y, test_size=0.3, random_state=42)"
      ],
      "execution_count": 0,
      "outputs": []
    },
    {
      "cell_type": "code",
      "metadata": {
        "id": "Mksnhqg9U7Bw",
        "colab_type": "code",
        "outputId": "b4c49ea2-15bc-4120-800f-972b13d4dfa2",
        "colab": {
          "base_uri": "https://localhost:8080/",
          "height": 204
        }
      },
      "source": [
        "tx_class.head()"
      ],
      "execution_count": 20,
      "outputs": [
        {
          "output_type": "execute_result",
          "data": {
            "text/html": [
              "<div>\n",
              "<style scoped>\n",
              "    .dataframe tbody tr th:only-of-type {\n",
              "        vertical-align: middle;\n",
              "    }\n",
              "\n",
              "    .dataframe tbody tr th {\n",
              "        vertical-align: top;\n",
              "    }\n",
              "\n",
              "    .dataframe thead th {\n",
              "        text-align: right;\n",
              "    }\n",
              "</style>\n",
              "<table border=\"1\" class=\"dataframe\">\n",
              "  <thead>\n",
              "    <tr style=\"text-align: right;\">\n",
              "      <th></th>\n",
              "      <th>CustomerID</th>\n",
              "      <th>Recency</th>\n",
              "      <th>RecencyCluster</th>\n",
              "      <th>Frequency</th>\n",
              "      <th>FrequencyCluster</th>\n",
              "      <th>CLTV</th>\n",
              "      <th>CLTVCluster</th>\n",
              "      <th>OverallScore</th>\n",
              "      <th>M6_LTV</th>\n",
              "      <th>LTVCluster</th>\n",
              "      <th>Segment_High-Value</th>\n",
              "      <th>Segment_Low-Value</th>\n",
              "      <th>Segment_Mid-Value</th>\n",
              "    </tr>\n",
              "  </thead>\n",
              "  <tbody>\n",
              "    <tr>\n",
              "      <th>0</th>\n",
              "      <td>14620.0</td>\n",
              "      <td>13</td>\n",
              "      <td>3</td>\n",
              "      <td>26</td>\n",
              "      <td>0</td>\n",
              "      <td>165.112</td>\n",
              "      <td>0</td>\n",
              "      <td>3</td>\n",
              "      <td>0.000</td>\n",
              "      <td>0</td>\n",
              "      <td>0</td>\n",
              "      <td>0</td>\n",
              "      <td>1</td>\n",
              "    </tr>\n",
              "    <tr>\n",
              "      <th>1</th>\n",
              "      <td>18044.0</td>\n",
              "      <td>5</td>\n",
              "      <td>3</td>\n",
              "      <td>57</td>\n",
              "      <td>0</td>\n",
              "      <td>323.584</td>\n",
              "      <td>0</td>\n",
              "      <td>3</td>\n",
              "      <td>397.796</td>\n",
              "      <td>0</td>\n",
              "      <td>0</td>\n",
              "      <td>0</td>\n",
              "      <td>1</td>\n",
              "    </tr>\n",
              "    <tr>\n",
              "      <th>2</th>\n",
              "      <td>18075.0</td>\n",
              "      <td>12</td>\n",
              "      <td>3</td>\n",
              "      <td>34</td>\n",
              "      <td>0</td>\n",
              "      <td>264.028</td>\n",
              "      <td>0</td>\n",
              "      <td>3</td>\n",
              "      <td>536.412</td>\n",
              "      <td>0</td>\n",
              "      <td>0</td>\n",
              "      <td>0</td>\n",
              "      <td>1</td>\n",
              "    </tr>\n",
              "    <tr>\n",
              "      <th>3</th>\n",
              "      <td>15241.0</td>\n",
              "      <td>0</td>\n",
              "      <td>3</td>\n",
              "      <td>63</td>\n",
              "      <td>0</td>\n",
              "      <td>386.160</td>\n",
              "      <td>0</td>\n",
              "      <td>3</td>\n",
              "      <td>316.416</td>\n",
              "      <td>0</td>\n",
              "      <td>0</td>\n",
              "      <td>0</td>\n",
              "      <td>1</td>\n",
              "    </tr>\n",
              "    <tr>\n",
              "      <th>4</th>\n",
              "      <td>12679.0</td>\n",
              "      <td>13</td>\n",
              "      <td>3</td>\n",
              "      <td>44</td>\n",
              "      <td>0</td>\n",
              "      <td>362.552</td>\n",
              "      <td>0</td>\n",
              "      <td>3</td>\n",
              "      <td>82.656</td>\n",
              "      <td>0</td>\n",
              "      <td>0</td>\n",
              "      <td>0</td>\n",
              "      <td>1</td>\n",
              "    </tr>\n",
              "  </tbody>\n",
              "</table>\n",
              "</div>"
            ],
            "text/plain": [
              "   CustomerID  Recency  ...  Segment_Low-Value  Segment_Mid-Value\n",
              "0     14620.0       13  ...                  0                  1\n",
              "1     18044.0        5  ...                  0                  1\n",
              "2     18075.0       12  ...                  0                  1\n",
              "3     15241.0        0  ...                  0                  1\n",
              "4     12679.0       13  ...                  0                  1\n",
              "\n",
              "[5 rows x 13 columns]"
            ]
          },
          "metadata": {
            "tags": []
          },
          "execution_count": 20
        }
      ]
    },
    {
      "cell_type": "code",
      "metadata": {
        "id": "PGy6XenfN08g",
        "colab_type": "code",
        "outputId": "0d2f0c91-30be-426f-cf96-2f62b1522d8b",
        "colab": {
          "base_uri": "https://localhost:8080/",
          "height": 221
        }
      },
      "source": [
        "#XGBoost Multiclassification Model\n",
        "\n",
        "ltv_xgb_model = xgb.XGBClassifier(max_depth=5, learning_rate=0.1,objective= 'multi:softprob', n_jobs=-1).fit(X_train, y_train)\n",
        "\n",
        "print('Accuracy of XGB classifier on training set: {:.2f}'\n",
        "       .format(ltv_xgb_model.score(X_train, y_train)))\n",
        "print('Accuracy of XGB classifier on test set: {:.2f}'\n",
        "       .format(ltv_xgb_model.score(X_test[X_train.columns], y_test)))\n",
        "\n",
        "y_pred = ltv_xgb_model.predict(X_test)\n",
        "print(classification_report(y_test, y_pred))"
      ],
      "execution_count": 22,
      "outputs": [
        {
          "output_type": "stream",
          "text": [
            "Accuracy of XGB classifier on training set: 0.95\n",
            "Accuracy of XGB classifier on test set: 0.86\n",
            "              precision    recall  f1-score   support\n",
            "\n",
            "           0       0.91      0.94      0.93       506\n",
            "           1       0.43      0.32      0.36        76\n",
            "           2       0.50      0.60      0.55        10\n",
            "\n",
            "    accuracy                           0.86       592\n",
            "   macro avg       0.61      0.62      0.61       592\n",
            "weighted avg       0.84      0.86      0.85       592\n",
            "\n"
          ],
          "name": "stdout"
        }
      ]
    },
    {
      "cell_type": "code",
      "metadata": {
        "id": "Zatjj4GRD1On",
        "colab_type": "code",
        "colab": {}
      },
      "source": [
        ""
      ],
      "execution_count": 0,
      "outputs": []
    }
  ]
}
